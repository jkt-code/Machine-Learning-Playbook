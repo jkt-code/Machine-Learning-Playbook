{
 "cells": [
  {
   "cell_type": "code",
   "execution_count": 1,
   "id": "fdc1055e",
   "metadata": {
    "_cell_guid": "b1076dfc-b9ad-4769-8c92-a6c4dae69d19",
    "_uuid": "8f2839f25d086af736a60e9eeb907d3b93b6e0e5",
    "execution": {
     "iopub.execute_input": "2024-09-04T13:19:19.836293Z",
     "iopub.status.busy": "2024-09-04T13:19:19.835207Z",
     "iopub.status.idle": "2024-09-04T13:19:20.236795Z",
     "shell.execute_reply": "2024-09-04T13:19:20.235465Z"
    },
    "papermill": {
     "duration": 0.411297,
     "end_time": "2024-09-04T13:19:20.239446",
     "exception": false,
     "start_time": "2024-09-04T13:19:19.828149",
     "status": "completed"
    },
    "tags": []
   },
   "outputs": [
    {
     "name": "stdout",
     "output_type": "stream",
     "text": [
      "/kaggle/input/obesity-classification-dataset/Obesity Classification.csv\n"
     ]
    }
   ],
   "source": [
    "# This Python 3 environment comes with many helpful analytics libraries installed\n",
    "# It is defined by the kaggle/python Docker image: https://github.com/kaggle/docker-python\n",
    "# For example, here's several helpful packages to load\n",
    "\n",
    "import numpy as np # linear algebra\n",
    "import pandas as pd # data processing, CSV file I/O (e.g. pd.read_csv)\n",
    "\n",
    "# Input data files are available in the read-only \"../input/\" directory\n",
    "# For example, running this (by clicking run or pressing Shift+Enter) will list all files under the input directory\n",
    "\n",
    "import os\n",
    "for dirname, _, filenames in os.walk('/kaggle/input'):\n",
    "    for filename in filenames:\n",
    "        print(os.path.join(dirname, filename))\n",
    "\n",
    "# You can write up to 20GB to the current directory (/kaggle/working/) that gets preserved as output when you create a version using \"Save & Run All\" \n",
    "# You can also write temporary files to /kaggle/temp/, but they won't be saved outside of the current session"
   ]
  },
  {
   "cell_type": "markdown",
   "id": "796f385d",
   "metadata": {
    "papermill": {
     "duration": 0.004542,
     "end_time": "2024-09-04T13:19:20.248983",
     "exception": false,
     "start_time": "2024-09-04T13:19:20.244441",
     "status": "completed"
    },
    "tags": []
   },
   "source": [
    "Loading Data"
   ]
  },
  {
   "cell_type": "code",
   "execution_count": 2,
   "id": "efc74894",
   "metadata": {
    "execution": {
     "iopub.execute_input": "2024-09-04T13:19:20.259969Z",
     "iopub.status.busy": "2024-09-04T13:19:20.259427Z",
     "iopub.status.idle": "2024-09-04T13:19:20.298163Z",
     "shell.execute_reply": "2024-09-04T13:19:20.297103Z"
    },
    "papermill": {
     "duration": 0.046876,
     "end_time": "2024-09-04T13:19:20.300475",
     "exception": false,
     "start_time": "2024-09-04T13:19:20.253599",
     "status": "completed"
    },
    "tags": []
   },
   "outputs": [
    {
     "data": {
      "text/html": [
       "<div>\n",
       "<style scoped>\n",
       "    .dataframe tbody tr th:only-of-type {\n",
       "        vertical-align: middle;\n",
       "    }\n",
       "\n",
       "    .dataframe tbody tr th {\n",
       "        vertical-align: top;\n",
       "    }\n",
       "\n",
       "    .dataframe thead th {\n",
       "        text-align: right;\n",
       "    }\n",
       "</style>\n",
       "<table border=\"1\" class=\"dataframe\">\n",
       "  <thead>\n",
       "    <tr style=\"text-align: right;\">\n",
       "      <th></th>\n",
       "      <th>ID</th>\n",
       "      <th>Age</th>\n",
       "      <th>Gender</th>\n",
       "      <th>Height</th>\n",
       "      <th>Weight</th>\n",
       "      <th>BMI</th>\n",
       "      <th>Label</th>\n",
       "    </tr>\n",
       "  </thead>\n",
       "  <tbody>\n",
       "    <tr>\n",
       "      <th>0</th>\n",
       "      <td>1</td>\n",
       "      <td>25</td>\n",
       "      <td>Male</td>\n",
       "      <td>175</td>\n",
       "      <td>80</td>\n",
       "      <td>25.3</td>\n",
       "      <td>Normal Weight</td>\n",
       "    </tr>\n",
       "    <tr>\n",
       "      <th>1</th>\n",
       "      <td>2</td>\n",
       "      <td>30</td>\n",
       "      <td>Female</td>\n",
       "      <td>160</td>\n",
       "      <td>60</td>\n",
       "      <td>22.5</td>\n",
       "      <td>Normal Weight</td>\n",
       "    </tr>\n",
       "    <tr>\n",
       "      <th>2</th>\n",
       "      <td>3</td>\n",
       "      <td>35</td>\n",
       "      <td>Male</td>\n",
       "      <td>180</td>\n",
       "      <td>90</td>\n",
       "      <td>27.3</td>\n",
       "      <td>Overweight</td>\n",
       "    </tr>\n",
       "    <tr>\n",
       "      <th>3</th>\n",
       "      <td>4</td>\n",
       "      <td>40</td>\n",
       "      <td>Female</td>\n",
       "      <td>150</td>\n",
       "      <td>50</td>\n",
       "      <td>20.0</td>\n",
       "      <td>Underweight</td>\n",
       "    </tr>\n",
       "    <tr>\n",
       "      <th>4</th>\n",
       "      <td>5</td>\n",
       "      <td>45</td>\n",
       "      <td>Male</td>\n",
       "      <td>190</td>\n",
       "      <td>100</td>\n",
       "      <td>31.2</td>\n",
       "      <td>Obese</td>\n",
       "    </tr>\n",
       "  </tbody>\n",
       "</table>\n",
       "</div>"
      ],
      "text/plain": [
       "   ID  Age  Gender  Height  Weight   BMI          Label\n",
       "0   1   25    Male     175      80  25.3  Normal Weight\n",
       "1   2   30  Female     160      60  22.5  Normal Weight\n",
       "2   3   35    Male     180      90  27.3     Overweight\n",
       "3   4   40  Female     150      50  20.0    Underweight\n",
       "4   5   45    Male     190     100  31.2          Obese"
      ]
     },
     "execution_count": 2,
     "metadata": {},
     "output_type": "execute_result"
    }
   ],
   "source": [
    "data = pd.read_csv('/kaggle/input/obesity-classification-dataset/Obesity Classification.csv')\n",
    "data.head()"
   ]
  },
  {
   "cell_type": "code",
   "execution_count": 3,
   "id": "a2f649ab",
   "metadata": {
    "execution": {
     "iopub.execute_input": "2024-09-04T13:19:20.312480Z",
     "iopub.status.busy": "2024-09-04T13:19:20.312059Z",
     "iopub.status.idle": "2024-09-04T13:19:20.324460Z",
     "shell.execute_reply": "2024-09-04T13:19:20.323247Z"
    },
    "papermill": {
     "duration": 0.021389,
     "end_time": "2024-09-04T13:19:20.327010",
     "exception": false,
     "start_time": "2024-09-04T13:19:20.305621",
     "status": "completed"
    },
    "tags": []
   },
   "outputs": [
    {
     "data": {
      "text/plain": [
       "ID        108\n",
       "Age       108\n",
       "Gender    108\n",
       "Height    108\n",
       "Weight    108\n",
       "BMI       108\n",
       "Label     108\n",
       "dtype: int64"
      ]
     },
     "execution_count": 3,
     "metadata": {},
     "output_type": "execute_result"
    }
   ],
   "source": [
    "data.isnull().count()"
   ]
  },
  {
   "cell_type": "code",
   "execution_count": 4,
   "id": "7d6ed5cf",
   "metadata": {
    "execution": {
     "iopub.execute_input": "2024-09-04T13:19:20.339034Z",
     "iopub.status.busy": "2024-09-04T13:19:20.338634Z",
     "iopub.status.idle": "2024-09-04T13:19:20.365867Z",
     "shell.execute_reply": "2024-09-04T13:19:20.364831Z"
    },
    "papermill": {
     "duration": 0.035888,
     "end_time": "2024-09-04T13:19:20.368024",
     "exception": false,
     "start_time": "2024-09-04T13:19:20.332136",
     "status": "completed"
    },
    "tags": []
   },
   "outputs": [
    {
     "name": "stdout",
     "output_type": "stream",
     "text": [
      "<class 'pandas.core.frame.DataFrame'>\n",
      "RangeIndex: 108 entries, 0 to 107\n",
      "Data columns (total 7 columns):\n",
      " #   Column  Non-Null Count  Dtype  \n",
      "---  ------  --------------  -----  \n",
      " 0   ID      108 non-null    int64  \n",
      " 1   Age     108 non-null    int64  \n",
      " 2   Gender  108 non-null    object \n",
      " 3   Height  108 non-null    int64  \n",
      " 4   Weight  108 non-null    int64  \n",
      " 5   BMI     108 non-null    float64\n",
      " 6   Label   108 non-null    object \n",
      "dtypes: float64(1), int64(4), object(2)\n",
      "memory usage: 6.0+ KB\n"
     ]
    }
   ],
   "source": [
    "data.info()"
   ]
  },
  {
   "cell_type": "code",
   "execution_count": 5,
   "id": "1cfd7546",
   "metadata": {
    "execution": {
     "iopub.execute_input": "2024-09-04T13:19:20.380074Z",
     "iopub.status.busy": "2024-09-04T13:19:20.379678Z",
     "iopub.status.idle": "2024-09-04T13:19:21.963819Z",
     "shell.execute_reply": "2024-09-04T13:19:21.962623Z"
    },
    "papermill": {
     "duration": 1.59307,
     "end_time": "2024-09-04T13:19:21.966187",
     "exception": false,
     "start_time": "2024-09-04T13:19:20.373117",
     "status": "completed"
    },
    "tags": []
   },
   "outputs": [
    {
     "data": {
      "text/plain": [
       "0    Normal Weight\n",
       "1    Normal Weight\n",
       "2       Overweight\n",
       "3      Underweight\n",
       "4            Obese\n",
       "Name: Label, dtype: object"
      ]
     },
     "execution_count": 5,
     "metadata": {},
     "output_type": "execute_result"
    }
   ],
   "source": [
    "from sklearn.model_selection import train_test_split\n",
    "from sklearn.preprocessing import StandardScaler,OneHotEncoder, LabelEncoder\n",
    "from sklearn.pipeline import make_pipeline\n",
    "from sklearn.compose import make_column_transformer\n",
    "from sklearn.impute import SimpleImputer\n",
    "\n",
    "data = pd.read_csv('/kaggle/input/obesity-classification-dataset/Obesity Classification.csv')\n",
    "\n",
    "features = [c for c in data.columns if c != 'Label']\n",
    "X = data[features]\n",
    "label_encoder = LabelEncoder()\n",
    "y1 = label_encoder.fit_transform(data['Label'])\n",
    "y = data['Label']\n",
    "y.head()"
   ]
  },
  {
   "cell_type": "markdown",
   "id": "d657869c",
   "metadata": {
    "papermill": {
     "duration": 0.005067,
     "end_time": "2024-09-04T13:19:21.976587",
     "exception": false,
     "start_time": "2024-09-04T13:19:21.971520",
     "status": "completed"
    },
    "tags": []
   },
   "source": [
    "Data Preprocessing and Train Test Split"
   ]
  },
  {
   "cell_type": "code",
   "execution_count": 6,
   "id": "cd8ff65d",
   "metadata": {
    "execution": {
     "iopub.execute_input": "2024-09-04T13:19:21.989154Z",
     "iopub.status.busy": "2024-09-04T13:19:21.988711Z",
     "iopub.status.idle": "2024-09-04T13:19:22.025557Z",
     "shell.execute_reply": "2024-09-04T13:19:22.024283Z"
    },
    "papermill": {
     "duration": 0.045915,
     "end_time": "2024-09-04T13:19:22.027914",
     "exception": false,
     "start_time": "2024-09-04T13:19:21.981999",
     "status": "completed"
    },
    "tags": []
   },
   "outputs": [
    {
     "data": {
      "text/plain": [
       "(81, 4)"
      ]
     },
     "execution_count": 6,
     "metadata": {},
     "output_type": "execute_result"
    }
   ],
   "source": [
    "num_features = ['ID','Age','Height','Weight','BMI']\n",
    "cat_features = ['Gender']\n",
    "\n",
    "transformer_num = make_pipeline(\n",
    "    SimpleImputer(strategy='constant'),\n",
    "    StandardScaler()\n",
    ")\n",
    "transformer_cat = make_pipeline(\n",
    "    SimpleImputer(strategy='constant',fill_value='NA'),\n",
    "    OneHotEncoder(handle_unknown='ignore')\n",
    ")\n",
    "preprocessor = make_column_transformer(\n",
    "    (transformer_num,num_features),\n",
    "    (transformer_cat,cat_features)\n",
    ")\n",
    "X_train, X_valid, y_train, y_valid = train_test_split(X,y)\n",
    "\n",
    "X_train = preprocessor.fit_transform(X_train)\n",
    "X_valid = preprocessor.transform(X_valid)\n",
    "y_train = transformer_cat.fit_transform(y_train.values.reshape(-1,1)).toarray()\n",
    "y_valid = transformer_cat.transform(y_valid.values.reshape(-1,1)).toarray()\n",
    "input_shape = [X_train.shape[1]]\n",
    "y_train.shape"
   ]
  },
  {
   "cell_type": "markdown",
   "id": "955bead0",
   "metadata": {
    "papermill": {
     "duration": 0.005302,
     "end_time": "2024-09-04T13:19:22.038741",
     "exception": false,
     "start_time": "2024-09-04T13:19:22.033439",
     "status": "completed"
    },
    "tags": []
   },
   "source": [
    "**Fitting and predicting different Models and checking their accuracy scores**"
   ]
  },
  {
   "cell_type": "markdown",
   "id": "9eb2fb58",
   "metadata": {
    "papermill": {
     "duration": 0.005056,
     "end_time": "2024-09-04T13:19:22.049157",
     "exception": false,
     "start_time": "2024-09-04T13:19:22.044101",
     "status": "completed"
    },
    "tags": []
   },
   "source": [
    "Decision Tree Classifier Model"
   ]
  },
  {
   "cell_type": "code",
   "execution_count": 7,
   "id": "df72be35",
   "metadata": {
    "execution": {
     "iopub.execute_input": "2024-09-04T13:19:22.061843Z",
     "iopub.status.busy": "2024-09-04T13:19:22.061040Z",
     "iopub.status.idle": "2024-09-04T13:19:22.102033Z",
     "shell.execute_reply": "2024-09-04T13:19:22.100967Z"
    },
    "papermill": {
     "duration": 0.049629,
     "end_time": "2024-09-04T13:19:22.104235",
     "exception": false,
     "start_time": "2024-09-04T13:19:22.054606",
     "status": "completed"
    },
    "tags": []
   },
   "outputs": [
    {
     "data": {
      "text/html": [
       "<style>#sk-container-id-1 {color: black;background-color: white;}#sk-container-id-1 pre{padding: 0;}#sk-container-id-1 div.sk-toggleable {background-color: white;}#sk-container-id-1 label.sk-toggleable__label {cursor: pointer;display: block;width: 100%;margin-bottom: 0;padding: 0.3em;box-sizing: border-box;text-align: center;}#sk-container-id-1 label.sk-toggleable__label-arrow:before {content: \"▸\";float: left;margin-right: 0.25em;color: #696969;}#sk-container-id-1 label.sk-toggleable__label-arrow:hover:before {color: black;}#sk-container-id-1 div.sk-estimator:hover label.sk-toggleable__label-arrow:before {color: black;}#sk-container-id-1 div.sk-toggleable__content {max-height: 0;max-width: 0;overflow: hidden;text-align: left;background-color: #f0f8ff;}#sk-container-id-1 div.sk-toggleable__content pre {margin: 0.2em;color: black;border-radius: 0.25em;background-color: #f0f8ff;}#sk-container-id-1 input.sk-toggleable__control:checked~div.sk-toggleable__content {max-height: 200px;max-width: 100%;overflow: auto;}#sk-container-id-1 input.sk-toggleable__control:checked~label.sk-toggleable__label-arrow:before {content: \"▾\";}#sk-container-id-1 div.sk-estimator input.sk-toggleable__control:checked~label.sk-toggleable__label {background-color: #d4ebff;}#sk-container-id-1 div.sk-label input.sk-toggleable__control:checked~label.sk-toggleable__label {background-color: #d4ebff;}#sk-container-id-1 input.sk-hidden--visually {border: 0;clip: rect(1px 1px 1px 1px);clip: rect(1px, 1px, 1px, 1px);height: 1px;margin: -1px;overflow: hidden;padding: 0;position: absolute;width: 1px;}#sk-container-id-1 div.sk-estimator {font-family: monospace;background-color: #f0f8ff;border: 1px dotted black;border-radius: 0.25em;box-sizing: border-box;margin-bottom: 0.5em;}#sk-container-id-1 div.sk-estimator:hover {background-color: #d4ebff;}#sk-container-id-1 div.sk-parallel-item::after {content: \"\";width: 100%;border-bottom: 1px solid gray;flex-grow: 1;}#sk-container-id-1 div.sk-label:hover label.sk-toggleable__label {background-color: #d4ebff;}#sk-container-id-1 div.sk-serial::before {content: \"\";position: absolute;border-left: 1px solid gray;box-sizing: border-box;top: 0;bottom: 0;left: 50%;z-index: 0;}#sk-container-id-1 div.sk-serial {display: flex;flex-direction: column;align-items: center;background-color: white;padding-right: 0.2em;padding-left: 0.2em;position: relative;}#sk-container-id-1 div.sk-item {position: relative;z-index: 1;}#sk-container-id-1 div.sk-parallel {display: flex;align-items: stretch;justify-content: center;background-color: white;position: relative;}#sk-container-id-1 div.sk-item::before, #sk-container-id-1 div.sk-parallel-item::before {content: \"\";position: absolute;border-left: 1px solid gray;box-sizing: border-box;top: 0;bottom: 0;left: 50%;z-index: -1;}#sk-container-id-1 div.sk-parallel-item {display: flex;flex-direction: column;z-index: 1;position: relative;background-color: white;}#sk-container-id-1 div.sk-parallel-item:first-child::after {align-self: flex-end;width: 50%;}#sk-container-id-1 div.sk-parallel-item:last-child::after {align-self: flex-start;width: 50%;}#sk-container-id-1 div.sk-parallel-item:only-child::after {width: 0;}#sk-container-id-1 div.sk-dashed-wrapped {border: 1px dashed gray;margin: 0 0.4em 0.5em 0.4em;box-sizing: border-box;padding-bottom: 0.4em;background-color: white;}#sk-container-id-1 div.sk-label label {font-family: monospace;font-weight: bold;display: inline-block;line-height: 1.2em;}#sk-container-id-1 div.sk-label-container {text-align: center;}#sk-container-id-1 div.sk-container {/* jupyter's `normalize.less` sets `[hidden] { display: none; }` but bootstrap.min.css set `[hidden] { display: none !important; }` so we also need the `!important` here to be able to override the default hidden behavior on the sphinx rendered scikit-learn.org. See: https://github.com/scikit-learn/scikit-learn/issues/21755 */display: inline-block !important;position: relative;}#sk-container-id-1 div.sk-text-repr-fallback {display: none;}</style><div id=\"sk-container-id-1\" class=\"sk-top-container\"><div class=\"sk-text-repr-fallback\"><pre>DecisionTreeClassifier(random_state=42)</pre><b>In a Jupyter environment, please rerun this cell to show the HTML representation or trust the notebook. <br />On GitHub, the HTML representation is unable to render, please try loading this page with nbviewer.org.</b></div><div class=\"sk-container\" hidden><div class=\"sk-item\"><div class=\"sk-estimator sk-toggleable\"><input class=\"sk-toggleable__control sk-hidden--visually\" id=\"sk-estimator-id-1\" type=\"checkbox\" checked><label for=\"sk-estimator-id-1\" class=\"sk-toggleable__label sk-toggleable__label-arrow\">DecisionTreeClassifier</label><div class=\"sk-toggleable__content\"><pre>DecisionTreeClassifier(random_state=42)</pre></div></div></div></div></div>"
      ],
      "text/plain": [
       "DecisionTreeClassifier(random_state=42)"
      ]
     },
     "execution_count": 7,
     "metadata": {},
     "output_type": "execute_result"
    }
   ],
   "source": [
    "from sklearn.tree import DecisionTreeClassifier\n",
    "model1 = DecisionTreeClassifier(random_state=42)\n",
    "model1.fit(X_train,y_train)"
   ]
  },
  {
   "cell_type": "code",
   "execution_count": 8,
   "id": "167a60ef",
   "metadata": {
    "execution": {
     "iopub.execute_input": "2024-09-04T13:19:22.117255Z",
     "iopub.status.busy": "2024-09-04T13:19:22.116839Z",
     "iopub.status.idle": "2024-09-04T13:19:22.135939Z",
     "shell.execute_reply": "2024-09-04T13:19:22.134617Z"
    },
    "papermill": {
     "duration": 0.028474,
     "end_time": "2024-09-04T13:19:22.138469",
     "exception": false,
     "start_time": "2024-09-04T13:19:22.109995",
     "status": "completed"
    },
    "tags": []
   },
   "outputs": [
    {
     "name": "stdout",
     "output_type": "stream",
     "text": [
      "              precision    recall  f1-score   support\n",
      "\n",
      "           0       1.00      0.86      0.92         7\n",
      "           1       1.00      1.00      1.00         3\n",
      "           2       0.80      1.00      0.89         4\n",
      "           3       1.00      1.00      1.00        13\n",
      "\n",
      "    accuracy                           0.96        27\n",
      "   macro avg       0.95      0.96      0.95        27\n",
      "weighted avg       0.97      0.96      0.96        27\n",
      "\n",
      "[[ 6  0  1  0]\n",
      " [ 0  3  0  0]\n",
      " [ 0  0  4  0]\n",
      " [ 0  0  0 13]]\n"
     ]
    }
   ],
   "source": [
    "from sklearn.metrics import confusion_matrix, classification_report,accuracy_score, f1_score\n",
    "\n",
    "y1_pred = model1.predict(X_valid)\n",
    "# If y_test is one-hot encoded, you may need to convert it to single label format\n",
    "y1_test_single = np.argmax(y_valid, axis=1)\n",
    "y1_pred_single = np.argmax(y1_pred, axis=1)\n",
    "\n",
    "# Now you can compute the metrics\n",
    "print(classification_report(y1_test_single, y1_pred_single,zero_division=0))\n",
    "print(confusion_matrix(y1_test_single, y1_pred_single))"
   ]
  },
  {
   "cell_type": "markdown",
   "id": "61ac4957",
   "metadata": {
    "papermill": {
     "duration": 0.00542,
     "end_time": "2024-09-04T13:19:22.149827",
     "exception": false,
     "start_time": "2024-09-04T13:19:22.144407",
     "status": "completed"
    },
    "tags": []
   },
   "source": [
    "Random Forest Classifier Model"
   ]
  },
  {
   "cell_type": "code",
   "execution_count": 9,
   "id": "b68aef2f",
   "metadata": {
    "execution": {
     "iopub.execute_input": "2024-09-04T13:19:22.162575Z",
     "iopub.status.busy": "2024-09-04T13:19:22.162156Z",
     "iopub.status.idle": "2024-09-04T13:19:22.233048Z",
     "shell.execute_reply": "2024-09-04T13:19:22.232086Z"
    },
    "papermill": {
     "duration": 0.08022,
     "end_time": "2024-09-04T13:19:22.235572",
     "exception": false,
     "start_time": "2024-09-04T13:19:22.155352",
     "status": "completed"
    },
    "tags": []
   },
   "outputs": [],
   "source": [
    "from sklearn.ensemble import RandomForestClassifier\n",
    "model2 = DecisionTreeClassifier(random_state=0)\n",
    "model2.fit(X_train,y_train)\n",
    "y2_pred = model2.predict(X_valid)"
   ]
  },
  {
   "cell_type": "code",
   "execution_count": 10,
   "id": "ff4e412b",
   "metadata": {
    "execution": {
     "iopub.execute_input": "2024-09-04T13:19:22.248870Z",
     "iopub.status.busy": "2024-09-04T13:19:22.248420Z",
     "iopub.status.idle": "2024-09-04T13:19:22.266234Z",
     "shell.execute_reply": "2024-09-04T13:19:22.265186Z"
    },
    "papermill": {
     "duration": 0.027245,
     "end_time": "2024-09-04T13:19:22.268639",
     "exception": false,
     "start_time": "2024-09-04T13:19:22.241394",
     "status": "completed"
    },
    "tags": []
   },
   "outputs": [
    {
     "name": "stdout",
     "output_type": "stream",
     "text": [
      "              precision    recall  f1-score   support\n",
      "\n",
      "           0       1.00      0.86      0.92         7\n",
      "           1       1.00      1.00      1.00         3\n",
      "           2       0.80      1.00      0.89         4\n",
      "           3       1.00      1.00      1.00        13\n",
      "\n",
      "    accuracy                           0.96        27\n",
      "   macro avg       0.95      0.96      0.95        27\n",
      "weighted avg       0.97      0.96      0.96        27\n",
      "\n",
      "[[ 6  0  1  0]\n",
      " [ 0  3  0  0]\n",
      " [ 0  0  4  0]\n",
      " [ 0  0  0 13]]\n"
     ]
    }
   ],
   "source": [
    "# If y_test is one-hot encoded, you may need to convert it to single label format\n",
    "y2_test_single = np.argmax(y_valid, axis=1)\n",
    "y2_pred_single = np.argmax(y2_pred, axis=1)\n",
    "\n",
    "# Now you can compute the metrics\n",
    "print(classification_report(y2_test_single, y2_pred_single,zero_division=0))\n",
    "print(confusion_matrix(y2_test_single, y2_pred_single))"
   ]
  },
  {
   "cell_type": "markdown",
   "id": "185e1078",
   "metadata": {
    "papermill": {
     "duration": 0.00585,
     "end_time": "2024-09-04T13:19:22.280727",
     "exception": false,
     "start_time": "2024-09-04T13:19:22.274877",
     "status": "completed"
    },
    "tags": []
   },
   "source": [
    "Deeplearning with Tensor Flow"
   ]
  },
  {
   "cell_type": "code",
   "execution_count": 11,
   "id": "06015274",
   "metadata": {
    "execution": {
     "iopub.execute_input": "2024-09-04T13:19:22.294038Z",
     "iopub.status.busy": "2024-09-04T13:19:22.293606Z",
     "iopub.status.idle": "2024-09-04T13:20:24.675719Z",
     "shell.execute_reply": "2024-09-04T13:20:24.674619Z"
    },
    "papermill": {
     "duration": 62.391843,
     "end_time": "2024-09-04T13:20:24.678334",
     "exception": false,
     "start_time": "2024-09-04T13:19:22.286491",
     "status": "completed"
    },
    "tags": []
   },
   "outputs": [
    {
     "name": "stderr",
     "output_type": "stream",
     "text": [
      "/opt/conda/lib/python3.10/site-packages/keras/src/layers/core/dense.py:87: UserWarning: Do not pass an `input_shape`/`input_dim` argument to a layer. When using Sequential models, prefer using an `Input(shape)` object as the first layer in the model instead.\n",
      "  super().__init__(activity_regularizer=activity_regularizer, **kwargs)\n"
     ]
    },
    {
     "name": "stdout",
     "output_type": "stream",
     "text": [
      "Best Validation loss: \n",
      " Best Validation accuracy: \n"
     ]
    },
    {
     "data": {
      "image/png": "[encoded data removed]",
      "text/plain": [
       "<Figure size 640x480 with 1 Axes>"
      ]
     },
     "metadata": {},
     "output_type": "display_data"
    },
    {
     "data": {
      "image/png": "[encoded data removed]",
      "text/plain": [
       "<Figure size 640x480 with 1 Axes>"
      ]
     },
     "metadata": {},
     "output_type": "display_data"
    }
   ],
   "source": [
    "from tensorflow import keras\n",
    "from tensorflow.keras import layers\n",
    "from tensorflow.keras import callbacks\n",
    "from tensorflow.keras.callbacks import EarlyStopping\n",
    "\n",
    "\n",
    "model = keras.Sequential([\n",
    "    layers.Dense(5,activation='relu',input_shape = input_shape),\n",
    "    layers.BatchNormalization(),\n",
    "    layers.Dropout(rate=0.2),\n",
    "    layers.Dense(5,activation='relu'),\n",
    "    layers.BatchNormalization(),\n",
    "    layers.Dropout(rate=0.2),\n",
    "    layers.Dense(5,activation='relu'),\n",
    "    layers.Dense(4,activation='softmax')\n",
    "])\n",
    "\n",
    "model.compile(\n",
    "    optimizer='adam',\n",
    "    loss = 'categorical_crossentropy',\n",
    "    metrics=['accuracy'],\n",
    ")\n",
    "\n",
    "early_stopping = keras.callbacks.EarlyStopping(\n",
    "    patience= 10,\n",
    "    min_delta= 0.001,\n",
    "    restore_best_weights= True,\n",
    ")\n",
    "\n",
    "history = model.fit(\n",
    "    X_train,y_train,\n",
    "    validation_data=(X_valid,y_valid),\n",
    "    batch_size=600,\n",
    "    epochs=2000,\n",
    "    callbacks= [early_stopping],\n",
    "    verbose = 0\n",
    ")\n",
    "\n",
    "history_df = pd.DataFrame(history.history)\n",
    "history_df.loc[5:,['loss','val_loss']].plot()\n",
    "history_df.loc[5:,['accuracy','val_accuracy']].plot()\n",
    "print(('Best Validation loss: ') +\n",
    "     ('\\n Best Validation accuracy: ').\n",
    "     format(history_df['val_loss'].min(),\n",
    "           history_df['val_accuracy'].max()))"
   ]
  },
  {
   "cell_type": "code",
   "execution_count": 12,
   "id": "ec961d87",
   "metadata": {
    "execution": {
     "iopub.execute_input": "2024-09-04T13:20:24.695359Z",
     "iopub.status.busy": "2024-09-04T13:20:24.694685Z",
     "iopub.status.idle": "2024-09-04T13:20:24.843519Z",
     "shell.execute_reply": "2024-09-04T13:20:24.842487Z"
    },
    "papermill": {
     "duration": 0.159916,
     "end_time": "2024-09-04T13:20:24.846011",
     "exception": false,
     "start_time": "2024-09-04T13:20:24.686095",
     "status": "completed"
    },
    "tags": []
   },
   "outputs": [
    {
     "name": "stdout",
     "output_type": "stream",
     "text": [
      "\u001b[1m1/1\u001b[0m \u001b[32m━━━━━━━━━━━━━━━━━━━━\u001b[0m\u001b[37m\u001b[0m \u001b[1m0s\u001b[0m 93ms/step\n"
     ]
    }
   ],
   "source": [
    "y_pred = model.predict(X_valid)"
   ]
  },
  {
   "cell_type": "code",
   "execution_count": 13,
   "id": "e3656c42",
   "metadata": {
    "execution": {
     "iopub.execute_input": "2024-09-04T13:20:24.863145Z",
     "iopub.status.busy": "2024-09-04T13:20:24.862228Z",
     "iopub.status.idle": "2024-09-04T13:20:24.877938Z",
     "shell.execute_reply": "2024-09-04T13:20:24.876851Z"
    },
    "papermill": {
     "duration": 0.026804,
     "end_time": "2024-09-04T13:20:24.880386",
     "exception": false,
     "start_time": "2024-09-04T13:20:24.853582",
     "status": "completed"
    },
    "tags": []
   },
   "outputs": [
    {
     "name": "stdout",
     "output_type": "stream",
     "text": [
      "              precision    recall  f1-score   support\n",
      "\n",
      "           0       1.00      0.71      0.83         7\n",
      "           1       1.00      1.00      1.00         3\n",
      "           2       0.67      1.00      0.80         4\n",
      "           3       1.00      1.00      1.00        13\n",
      "\n",
      "    accuracy                           0.93        27\n",
      "   macro avg       0.92      0.93      0.91        27\n",
      "weighted avg       0.95      0.93      0.93        27\n",
      "\n",
      "[[ 5  0  2  0]\n",
      " [ 0  3  0  0]\n",
      " [ 0  0  4  0]\n",
      " [ 0  0  0 13]]\n"
     ]
    }
   ],
   "source": [
    "# If y_test is one-hot encoded, you may need to convert it to single label format\n",
    "y_test_single = np.argmax(y_valid, axis=1)\n",
    "y_pred_single = np.argmax(y_pred, axis=1)\n",
    "\n",
    "# Now you can compute the metrics\n",
    "print(classification_report(y_test_single, y_pred_single,zero_division=0))\n",
    "print(confusion_matrix(y_test_single, y_pred_single))"
   ]
  }
 ],
 "metadata": {
  "kaggle": {
   "accelerator": "none",
   "dataSources": [
    {
     "datasetId": 3291030,
     "sourceId": 5723036,
     "sourceType": "datasetVersion"
    }
   ],
   "dockerImageVersionId": 30761,
   "isGpuEnabled": false,
   "isInternetEnabled": false,
   "language": "python",
   "sourceType": "notebook"
  },
  "kernelspec": {
   "display_name": "Python 3",
   "language": "python",
   "name": "python3"
  },
  "language_info": {
   "codemirror_mode": {
    "name": "ipython",
    "version": 3
   },
   "file_extension": ".py",
   "mimetype": "text/x-python",
   "name": "python",
   "nbconvert_exporter": "python",
   "pygments_lexer": "ipython3",
   "version": "3.10.14"
  },
  "papermill": {
   "default_parameters": {},
   "duration": 69.377571,
   "end_time": "2024-09-04T13:20:26.513139",
   "environment_variables": {},
   "exception": null,
   "input_path": "__notebook__.ipynb",
   "output_path": "__notebook__.ipynb",
   "parameters": {},
   "start_time": "2024-09-04T13:19:17.135568",
   "version": "2.6.0"
  }
 },
 "nbformat": 4,
 "nbformat_minor": 5
}
